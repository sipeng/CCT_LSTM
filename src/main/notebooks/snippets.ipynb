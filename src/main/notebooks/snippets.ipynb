{
 "cells": [
  {
   "cell_type": "code",
   "execution_count": 7,
   "metadata": {
    "collapsed": true
   },
   "outputs": [],
   "source": [
    "import pandas as pd\n",
    "import numpy as np\n",
    "import h5py"
   ]
  },
  {
   "cell_type": "code",
   "execution_count": 15,
   "metadata": {
    "collapsed": true
   },
   "outputs": [],
   "source": [
    "DATA_PATH = '/largedatadrive/dsnp/sipeng/data/full/oneyear/'\n",
    "train_path = DATA_PATH + 'part-r-00000-95f4b3d8-288d-4b0c-b676-878a7bbdaa00.gz.parquet.hdf5'\n",
    "valid_path = DATA_PATH + 'part-r-00001-95f4b3d8-288d-4b0c-b676-878a7bbdaa00.gz.parquet.hdf5'\n",
    "test_path = DATA_PATH + 'part-r-00002-95f4b3d8-288d-4b0c-b676-878a7bbdaa00.gz.parquet.hdf5'"
   ]
  },
  {
   "cell_type": "code",
   "execution_count": 16,
   "metadata": {
    "collapsed": true
   },
   "outputs": [],
   "source": [
    "# utility function to load the data from hdf5 files\n",
    "def load_data(data_path):\n",
    "    \"\"\"\n",
    "    load training, validation and\n",
    "    test data of hdf5\n",
    "    \"\"\"\n",
    "    data_block = h5py.File(data_path)\n",
    "    seat_id = np.array(data_block['seat_id'])\n",
    "    contract_id = np.array(data_block['contract_id'])\n",
    "    X = np.array(data_block['X'])\n",
    "    y1_daily = np.array(data_block['label_seat_daily'])\n",
    "    y1_monthly = np.array(data_block['label_seat_monthly'])\n",
    "    y2_daily = np.array(data_block['label_contract_daily'])\n",
    "    y2_monthly = np.array(data_block['label_contract_monthly'])\n",
    "    data_block.close()\n",
    "    return seat_id, contract_id, X, y1_daily, y1_monthly, y2_daily, y2_monthly"
   ]
  },
  {
   "cell_type": "code",
   "execution_count": 17,
   "metadata": {
    "collapsed": false
   },
   "outputs": [],
   "source": [
    "seat_id, contract_id, X, y1_daily, y1_monthly, y2_daily, y2_monthly = load_data(train_path)"
   ]
  },
  {
   "cell_type": "code",
   "execution_count": 20,
   "metadata": {
    "collapsed": false
   },
   "outputs": [
    {
     "data": {
      "text/plain": [
       "(3671, 365, 14)"
      ]
     },
     "execution_count": 20,
     "metadata": {},
     "output_type": "execute_result"
    }
   ],
   "source": [
    "X.shape"
   ]
  },
  {
   "cell_type": "code",
   "execution_count": null,
   "metadata": {
    "collapsed": true
   },
   "outputs": [],
   "source": []
  }
 ],
 "metadata": {
  "kernelspec": {
   "display_name": "Python 2",
   "language": "python",
   "name": "python2"
  },
  "language_info": {
   "codemirror_mode": {
    "name": "ipython",
    "version": 2
   },
   "file_extension": ".py",
   "mimetype": "text/x-python",
   "name": "python",
   "nbconvert_exporter": "python",
   "pygments_lexer": "ipython2",
   "version": "2.7.11"
  }
 },
 "nbformat": 4,
 "nbformat_minor": 2
}
